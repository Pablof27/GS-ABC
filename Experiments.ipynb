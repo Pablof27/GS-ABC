{
 "cells": [
  {
   "cell_type": "code",
   "execution_count": 1,
   "id": "f1df0b0c",
   "metadata": {},
   "outputs": [],
   "source": [
    "from SchedulingProblem import ProjectSchedulingModel\n",
    "from ArtificialBeeColony import Parameters, InitParams\n",
    "from MainLab import experiment_parallel\n",
    "from Utils import loadBestKnown, loadProblems, load_results, arpd\n",
    "import random"
   ]
  },
  {
   "cell_type": "code",
   "execution_count": 2,
   "id": "66d78066",
   "metadata": {},
   "outputs": [],
   "source": [
    "PATHS = [\"j30.sm/j30\", \"j60.sm/j60\", \"j90.sm/j90\", \"j120.sm/j120\"]\n",
    "RES_PATH = \"Results\"\n",
    "\n",
    "problems_data = {path.split(\".\")[0]: loadProblems(path) for path in PATHS}\n",
    "best_known_data = {f\"j{i}\": loadBestKnown(i) for i in [30, 60, 90, 120]}\n",
    "for key in problems_data.keys():\n",
    "    if key in best_known_data:\n",
    "        current_problems = problems_data[key]\n",
    "        current_best_known = best_known_data[key]\n",
    "        for i, best_val in enumerate(current_best_known):\n",
    "            if i < len(current_problems):\n",
    "                current_problems[i].best_known = best_val\n",
    "            else:\n",
    "                # This case should ideally not happen if data is consistent\n",
    "                print(f\"Warning: More best_known values than problems for {key}. Index {i} is out of bounds for problems list (length {len(current_problems)}).\")\n",
    "    else:\n",
    "        print(f\"Warning: No best_known data found for problem key {key}.\")"
   ]
  },
  {
   "cell_type": "code",
   "execution_count": 3,
   "id": "c3626b32",
   "metadata": {},
   "outputs": [
    {
     "name": "stdout",
     "output_type": "stream",
     "text": [
      "{'j30': [41, 174, 213, 338, 422], 'j60': [68, 139, 278, 335, 468], 'j90': [3, 128, 209, 346, 461], 'j120': [65, 190, 242, 335, 391]}\n"
     ]
    }
   ],
   "source": [
    "n = 5\n",
    "problems_idx = {key: [i+random.randint(0, 480//n-1) for i in range(0, 480, 480//n)] for key in problems_data.keys()}\n",
    "# problems_idx[\"j30\"] = [89, 161, 218, 314, 433]\n",
    "print(problems_idx)"
   ]
  },
  {
   "cell_type": "code",
   "execution_count": 4,
   "id": "ba617985",
   "metadata": {},
   "outputs": [
    {
     "name": "stdout",
     "output_type": "stream",
     "text": [
      "['j1202_3', 'j12017_2', 'j12023_3', 'j12035_3', 'j12040_1']\n"
     ]
    }
   ],
   "source": [
    "problems_used = [problems_data[key][i] for key in problems_data.keys() for i in problems_idx[key]]\n",
    "print([problem.name for problem in problems_used][-5:])"
   ]
  },
  {
   "cell_type": "code",
   "execution_count": 3,
   "id": "84dd8194",
   "metadata": {},
   "outputs": [
    {
     "name": "stdout",
     "output_type": "stream",
     "text": [
      "Starting parallel execution for Results/j30-gsabc.json with 480 total runs.\n",
      "Using gs-abc with init params None.\n"
     ]
    },
    {
     "name": "stderr",
     "output_type": "stream",
     "text": [
      "Optimizing Results/j30-gsabc.json: 100%|██████████| 480/480 [36:13<00:00,  4.53s/it]  \n"
     ]
    },
    {
     "name": "stdout",
     "output_type": "stream",
     "text": [
      "Shutting down executor...\n",
      "Saving final results...\n",
      "Results successfully saved to Results/j30-gsabc.json\n",
      "Results for Results/j30-gsabc.json saved successfully. Total results: 480.\n",
      "Starting parallel execution for Results/j60-gsabc.json with 480 total runs.\n",
      "Using gs-abc with init params None.\n"
     ]
    },
    {
     "name": "stderr",
     "output_type": "stream",
     "text": [
      "Optimizing Results/j60-gsabc.json: 100%|██████████| 480/480 [3:38:55<00:00, 27.37s/it]  \n"
     ]
    },
    {
     "name": "stdout",
     "output_type": "stream",
     "text": [
      "Shutting down executor...\n",
      "Saving final results...\n",
      "Results successfully saved to Results/j60-gsabc.json\n",
      "Results for Results/j60-gsabc.json saved successfully. Total results: 480.\n",
      "Starting parallel execution for Results/j120-gsabc.json with 480 total runs.\n",
      "Using gs-abc with init params None.\n"
     ]
    },
    {
     "name": "stderr",
     "output_type": "stream",
     "text": [
      "Optimizing Results/j120-gsabc.json: 100%|██████████| 480/480 [14:13:30<00:00, 106.69s/it]  \n"
     ]
    },
    {
     "name": "stdout",
     "output_type": "stream",
     "text": [
      "Shutting down executor...\n",
      "Saving final results...\n",
      "Results successfully saved to Results/j120-gsabc.json\n",
      "Results for Results/j120-gsabc.json saved successfully. Total results: 480.\n"
     ]
    }
   ],
   "source": [
    "N = 17\n",
    "limit = 125\n",
    "max_evaluations = 50000\n",
    "stagnation = 500\n",
    "mr = 0.1\n",
    "base_name = \"Results/{dataset}-gsabc.json\"\n",
    "datasets = [\"j30\", \"j60\", \"j120\"]\n",
    "\n",
    "params_obj = Parameters(N=N, limit=limit, max_evaluations=max_evaluations, stagnation=stagnation, mr=mr, init_params=None)\n",
    "for data in datasets:\n",
    "    experiment_parallel(\n",
    "        problems_list=problems_data[data],\n",
    "        filename=base_name.format(dataset=data),\n",
    "        base_params=params_obj,\n",
    "        mode_str=\"gs-abc\",\n",
    "        num_runs_per_problem=1\n",
    "    )"
   ]
  },
  {
   "cell_type": "code",
   "execution_count": 7,
   "id": "2c1cf58a",
   "metadata": {},
   "outputs": [
    {
     "name": "stdout",
     "output_type": "stream",
     "text": [
      "Starting parallel execution for Results/j120-local-search-abc.json with 480 total runs.\n",
      "Using abc with init params None.\n"
     ]
    },
    {
     "name": "stderr",
     "output_type": "stream",
     "text": [
      "Optimizing Results/j120-local-search-abc.json: 100%|██████████| 480/480 [14:49:37<00:00, 111.20s/it]  \n"
     ]
    },
    {
     "name": "stdout",
     "output_type": "stream",
     "text": [
      "Shutting down executor...\n",
      "Saving final results...\n",
      "Results successfully saved to Results/j120-local-search-abc.json\n",
      "Results for Results/j120-local-search-abc.json saved successfully. Total results: 480.\n"
     ]
    }
   ],
   "source": [
    "N = 17\n",
    "limit = 125\n",
    "max_evaluations = 50000\n",
    "local_search_iterarions = 25\n",
    "datasets = [\"j120\"]\n",
    "\n",
    "for dt in datasets:\n",
    "    params_obj = Parameters(N=N, limit=limit, max_evaluations=max_evaluations, l=local_search_iterarions)\n",
    "    experiment_parallel(\n",
    "        problems_list=problems_data[dt],\n",
    "        filename=f\"Results/{dt}-local-search-abc.json\",\n",
    "        base_params=params_obj,\n",
    "        mode_str=\"abc\",\n",
    "        num_runs_per_problem=1\n",
    "    )"
   ]
  },
  {
   "cell_type": "code",
   "execution_count": null,
   "id": "9bd98a23",
   "metadata": {},
   "outputs": [],
   "source": [
    "population_size = [14, 15, 16, 17]\n",
    "limit_options = [125]\n",
    "for size in population_size:\n",
    "    for limit in limit_options:\n",
    "        params_obj = Parameters(N=size, limit=limit, max_evaluations=50000)\n",
    "        experiment_parallel(\n",
    "            problems_list=problems_used[0:5],\n",
    "            filename=f\"Results/j30-N{size}-L{limit}.json\",\n",
    "            base_params=params_obj,\n",
    "            mode_str=\"abc\",\n",
    "            init_str=\"random\",\n",
    "            num_runs_per_problem=10,\n",
    "        )"
   ]
  },
  {
   "cell_type": "code",
   "execution_count": null,
   "id": "af80599d",
   "metadata": {},
   "outputs": [],
   "source": [
    "proportions = [0.45]\n",
    "sampling_rate = [15]\n",
    "for proportion in proportions:\n",
    "    for sampling in sampling_rate:\n",
    "        init_params = InitParams(heuristics_rate=proportion, sampling_rate=sampling)\n",
    "        params_obj = Parameters(N=17, limit=125, max_evaluations=50000, init_params=init_params)\n",
    "        experiment_parallel(\n",
    "            problems_list=problems_used[0:5],\n",
    "            filename=f\"Results/j30-N{17}-L{125}-P{int(proportion*100)}-S{sampling}.json\",\n",
    "            base_params=params_obj,\n",
    "            mode_str=\"abc\",\n",
    "            init_str=\"mcmc\",\n",
    "            num_runs_per_problem=10,\n",
    "        )"
   ]
  },
  {
   "cell_type": "code",
   "execution_count": null,
   "id": "4412db8f",
   "metadata": {},
   "outputs": [],
   "source": [
    "proportions = [0.35, 0.4, 0.45, 0.5, 0.55, 0.6]\n",
    "samplings = [10, 15, 20, 25, 30, 35]\n",
    "\n",
    "for p in proportions:\n",
    "    for s in samplings:\n",
    "        params_obj = Parameters(N=17, limit=125, max_evaluations=1000, init_params=InitParams(heuristics_rate=p, sampling_rate=s))\n",
    "        experiment_parallel(\n",
    "            problems_list=problems_used[-5:],\n",
    "            filename=f\"Results/j120-N17-L125-P{int(100*p)}-S{s}.json\",\n",
    "            base_params=params_obj,\n",
    "            mode_str=\"abc\",\n",
    "            num_runs_per_problem=10,\n",
    "        )"
   ]
  },
  {
   "cell_type": "code",
   "execution_count": null,
   "id": "b6b505f3",
   "metadata": {},
   "outputs": [],
   "source": [
    "N = 17\n",
    "limit = 125\n",
    "max_evaluations = 50000\n",
    "heuristic_rate = 0.45\n",
    "sampling = 15\n",
    "base_name = \"Results/{dataset}-random-init-abc.json\"\n",
    "datasets = [\"j30\", \"j60\", \"j120\"]\n",
    "\n",
    "params_obj = Parameters(N=N, limit=limit, max_evaluations=max_evaluations, init_params=None)\n",
    "for data in datasets:\n",
    "    experiment_parallel(\n",
    "        problems_list=problems_data[data],\n",
    "        filename=base_name.format(dataset=data),\n",
    "        base_params=params_obj,\n",
    "        mode_str=\"abc\",\n",
    "        num_runs_per_problem=1\n",
    "    )"
   ]
  },
  {
   "cell_type": "code",
   "execution_count": null,
   "id": "7fdaeecc",
   "metadata": {},
   "outputs": [],
   "source": [
    "N = 17\n",
    "limit = 125\n",
    "max_evaluations = 50000\n",
    "heuristic_rate = 0.45\n",
    "sampling = 15\n",
    "base_name = \"Results/{dataset}-mcmc-init-abc.json\"\n",
    "datasets = [\"j120\"]\n",
    "\n",
    "params_obj = Parameters(N=N, limit=limit, max_evaluations=max_evaluations, init_params=InitParams(heuristics_rate=heuristic_rate, sampling_rate=sampling))\n",
    "for data in datasets:\n",
    "    experiment_parallel(\n",
    "        problems_list=problems_data[data],\n",
    "        filename=base_name.format(dataset=data),\n",
    "        base_params=params_obj,\n",
    "        mode_str=\"abc\",\n",
    "        num_runs_per_problem=1,\n",
    "        max_workers=8\n",
    "    )"
   ]
  },
  {
   "cell_type": "code",
   "execution_count": 4,
   "id": "14391659",
   "metadata": {},
   "outputs": [
    {
     "name": "stdout",
     "output_type": "stream",
     "text": [
      "Starting parallel execution for Results/j30-N4-random-init-abc.json with 480 total runs.\n",
      "Using abc with init params None.\n"
     ]
    },
    {
     "name": "stderr",
     "output_type": "stream",
     "text": [
      "Optimizing Results/j30-N4-random-init-abc.json: 100%|██████████| 480/480 [01:47<00:00,  4.47it/s]\n"
     ]
    },
    {
     "name": "stdout",
     "output_type": "stream",
     "text": [
      "Shutting down executor...\n",
      "Saving final results...\n",
      "Results successfully saved to Results/j30-N4-random-init-abc.json\n",
      "Results for Results/j30-N4-random-init-abc.json saved successfully. Total results: 480.\n",
      "Starting parallel execution for Results/j120-N4-random-init-abc.json with 480 total runs.\n",
      "Using abc with init params None.\n"
     ]
    },
    {
     "name": "stderr",
     "output_type": "stream",
     "text": [
      "Optimizing Results/j120-N4-random-init-abc.json: 100%|██████████| 480/480 [19:49<00:00,  2.48s/it]\n"
     ]
    },
    {
     "name": "stdout",
     "output_type": "stream",
     "text": [
      "Shutting down executor...\n",
      "Saving final results...\n",
      "Results successfully saved to Results/j120-N4-random-init-abc.json\n",
      "Results for Results/j120-N4-random-init-abc.json saved successfully. Total results: 480.\n",
      "Starting parallel execution for Results/j60-N4-random-init-abc.json with 480 total runs.\n",
      "Using abc with init params None.\n"
     ]
    },
    {
     "name": "stderr",
     "output_type": "stream",
     "text": [
      "Optimizing Results/j60-N4-random-init-abc.json: 100%|██████████| 480/480 [06:04<00:00,  1.32it/s]\n"
     ]
    },
    {
     "name": "stdout",
     "output_type": "stream",
     "text": [
      "Shutting down executor...\n",
      "Saving final results...\n",
      "Results successfully saved to Results/j60-N4-random-init-abc.json\n",
      "Results for Results/j60-N4-random-init-abc.json saved successfully. Total results: 480.\n"
     ]
    }
   ],
   "source": [
    "N = 4\n",
    "limit = 125\n",
    "max_evaluations = 1000\n",
    "heuristic_rate = 1\n",
    "sampling_rate = 0\n",
    "base_name = \"Results/{dataset}-N4-random-init-abc.json\"\n",
    "datasets = [\"j30\", \"j60\", \"j120\"]\n",
    "\n",
    "params_obj = Parameters(N=N, limit=limit, max_evaluations=max_evaluations, init_params=None)\n",
    "for data in datasets:\n",
    "    experiment_parallel(\n",
    "        problems_list=problems_data[data],\n",
    "        filename=base_name.format(dataset=data),\n",
    "        base_params=params_obj,\n",
    "        mode_str=\"abc\",\n",
    "        num_runs_per_problem=1,\n",
    "        max_workers=8\n",
    "    )"
   ]
  },
  {
   "cell_type": "code",
   "execution_count": null,
   "id": "15fa3c74",
   "metadata": {},
   "outputs": [],
   "source": [
    "params_obj = Parameters(N=5*30, limit=30*2, max_evaluations=4*30*4, stagnation=1, mr=0.1, l=25)\n",
    "experiment_parallel(\n",
    "    problems_list=problems_used[:48],\n",
    "    filename=f\"{RES_PATH}/j30-gs-abc.json\",\n",
    "    base_params=params_obj,\n",
    "    mode_str=\"gs-abc\",\n",
    "    init_str=\"mcmc\",\n",
    "    num_runs_per_problem=5\n",
    ")\n",
    "params_obj = Parameters(N=5*60, limit=60*2, max_trials=4*60*4, mr=0.15, l=25)\n",
    "experiment_parallel(\n",
    "    problems_list=problems_used[48:48*2],\n",
    "    filename=f\"{RES_PATH}/j60-gs-abc.json\",\n",
    "    base_params=params_obj,\n",
    "    mode_str=\"gs-abc\",\n",
    "    init_str=\"mcmc\",\n",
    "    num_runs_per_problem=5\n",
    ")\n",
    "params_obj = Parameters(N=5*60, limit=60*2, max_trials=4*60*4)\n",
    "experiment_parallel(\n",
    "    problems_list=problems_used[48:48*2],\n",
    "    filename=f\"{RES_PATH}/j60-abc.json\",\n",
    "    base_params=params_obj,\n",
    "    mode_str=\"abc\",\n",
    "    init_str=\"random\",\n",
    "    num_runs_per_problem=5\n",
    ")\n",
    "params_obj = Parameters(N=5*90, limit=90*2, max_trials=4*90*4, mr=0.15, l=25)\n",
    "experiment_parallel(\n",
    "    problems_list=problems_used[48*2:48*3],\n",
    "    filename=f\"{RES_PATH}/j90-gs-abc.json\",\n",
    "    base_params=params_obj,\n",
    "    mode_str=\"gs-abc\",\n",
    "    init_str=\"mcmc\",\n",
    "    num_runs_per_problem=5\n",
    ")\n",
    "params_obj = Parameters(N=5*90, limit=90*2, max_trials=4*90*4)\n",
    "experiment_parallel(\n",
    "    problems_list=problems_used[48*2:48*3],\n",
    "    filename=f\"{RES_PATH}/j90-abc.json\",\n",
    "    base_params=params_obj,\n",
    "    mode_str=\"abc\",\n",
    "    init_str=\"random\",\n",
    "    num_runs_per_problem=5\n",
    ")\n",
    "params_obj = Parameters(N=5*120, limit=120*2, max_trials=16*120, mr=0.25, l=25)\n",
    "experiment_parallel(\n",
    "    problems_list=problems_used[48*3:48*3+5],\n",
    "    filename=f\"{RES_PATH}/j120-gs-abc.json\",\n",
    "    base_params=params_obj,\n",
    "    mode_str=\"gs-abc\",\n",
    "    init_str=\"mcmc\",\n",
    "    num_runs_per_problem=5\n",
    ")\n",
    "params_obj = Parameters(N=5*120, limit=120*2, max_trials=16*120)\n",
    "experiment_parallel(\n",
    "    problems_list=problems_used[48*3:48*3+5],\n",
    "    filename=f\"{RES_PATH}/j120-abc.json\",\n",
    "    base_params=params_obj,\n",
    "    mode_str=\"abc\",\n",
    "    init_str=\"random\",\n",
    "    num_runs_per_problem=5\n",
    ")"
   ]
  }
 ],
 "metadata": {
  "kernelspec": {
   "display_name": "base",
   "language": "python",
   "name": "python3"
  },
  "language_info": {
   "codemirror_mode": {
    "name": "ipython",
    "version": 3
   },
   "file_extension": ".py",
   "mimetype": "text/x-python",
   "name": "python",
   "nbconvert_exporter": "python",
   "pygments_lexer": "ipython3",
   "version": "3.12.2"
  }
 },
 "nbformat": 4,
 "nbformat_minor": 5
}
