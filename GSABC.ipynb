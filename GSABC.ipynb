{
 "cells": [
  {
   "cell_type": "code",
   "execution_count": 2,
   "id": "f1df0b0c",
   "metadata": {},
   "outputs": [],
   "source": [
    "from SchedulingProblem import ProjectSchedulingModel\n",
    "from ArtificialBeeColony import Parameters\n",
    "from MainLab import experiment_parallel\n",
    "from Utils import loadBestKnown, loadProblems, load_results, arpd\n",
    "import random"
   ]
  },
  {
   "cell_type": "code",
   "execution_count": 8,
   "id": "66d78066",
   "metadata": {},
   "outputs": [],
   "source": [
    "PATHS = [\"j30.sm/j30\", \"j60.sm/j60\", \"j90.sm/j90\", \"j120.sm/j120\"]\n",
    "RES_PATH = \"Results\"\n",
    "\n",
    "problems_data = {path.split(\".\")[0]: loadProblems(path) for path in PATHS}\n",
    "best_known_data = {f\"j{i}\": loadBestKnown(i) for i in [30, 60, 90, 120]}\n",
    "for key in problems_data.keys():\n",
    "    if key in best_known_data:\n",
    "        current_problems = problems_data[key]\n",
    "        current_best_known = best_known_data[key]\n",
    "        for i, best_val in enumerate(current_best_known):\n",
    "            if i < len(current_problems):\n",
    "                current_problems[i].best_known = best_val\n",
    "            else:\n",
    "                # This case should ideally not happen if data is consistent\n",
    "                print(f\"Warning: More best_known values than problems for {key}. Index {i} is out of bounds for problems list (length {len(current_problems)}).\")\n",
    "    else:\n",
    "        print(f\"Warning: No best_known data found for problem key {key}.\")"
   ]
  },
  {
   "cell_type": "code",
   "execution_count": 8,
   "id": "c3626b32",
   "metadata": {},
   "outputs": [
    {
     "name": "stdout",
     "output_type": "stream",
     "text": [
      "{'j30': [4, 10, 23, 31, 40, 53, 65, 75, 85, 91, 107, 116, 128, 136, 149, 152, 161, 170, 184, 197, 204, 215, 224, 231, 246, 252, 265, 275, 281, 296, 305, 312, 327, 339, 345, 359, 365, 374, 388, 397, 405, 410, 421, 432, 440, 454, 469, 476], 'j60': [5, 19, 29, 33, 45, 57, 64, 71, 82, 94, 103, 112, 123, 134, 149, 159, 162, 174, 182, 192, 203, 216, 224, 233, 248, 258, 261, 278, 287, 298, 307, 314, 326, 334, 348, 354, 368, 373, 382, 390, 401, 418, 429, 430, 449, 459, 465, 477], 'j90': [8, 10, 29, 39, 42, 52, 67, 78, 80, 97, 107, 112, 126, 136, 144, 158, 165, 171, 183, 196, 201, 217, 224, 231, 241, 253, 262, 277, 283, 296, 308, 317, 328, 332, 343, 359, 368, 371, 384, 394, 401, 414, 424, 435, 443, 457, 463, 475], 'j120': [8, 15, 25, 34, 46, 55, 67, 78, 86, 90, 107, 119, 123, 130, 143, 154, 163, 178, 187, 193, 207, 211, 227, 234, 240, 256, 267, 279, 283, 298, 309, 312, 323, 331, 349, 356, 368, 379, 384, 399, 406, 417, 422, 438, 446, 453, 467, 475]}\n"
     ]
    }
   ],
   "source": [
    "n = 48\n",
    "problems_idx = {key: [i+random.randint(0, 480//n-1) for i in range(0, 480, 480//n)] for key in problems_data.keys()}\n",
    "print(problems_idx)"
   ]
  },
  {
   "cell_type": "code",
   "execution_count": 9,
   "id": "ba617985",
   "metadata": {},
   "outputs": [
    {
     "name": "stdout",
     "output_type": "stream",
     "text": [
      "['j301_5', 'j302_1', 'j303_4', 'j304_2', 'j305_1', 'j306_4', 'j307_6', 'j308_6', 'j309_6', 'j3010_2', 'j3011_8', 'j3012_7', 'j3013_9', 'j3014_7', 'j3015_10', 'j3016_3', 'j3017_2', 'j3018_1', 'j3019_5', 'j3020_8', 'j3021_5', 'j3022_6', 'j3023_5', 'j3024_2', 'j3025_7', 'j3026_3', 'j3027_6', 'j3028_6', 'j3029_2', 'j3030_7', 'j3031_6', 'j3032_3', 'j3033_8', 'j3034_10', 'j3035_6', 'j3036_10', 'j3037_6', 'j3038_5', 'j3039_9', 'j3040_8', 'j3041_6', 'j3042_1', 'j3043_2', 'j3044_3', 'j3045_1', 'j3046_5', 'j3047_10', 'j3048_7', 'j601_6', 'j602_10', 'j603_10', 'j604_4', 'j605_6', 'j606_8', 'j607_5', 'j608_2', 'j609_3', 'j6010_5', 'j6011_4', 'j6012_3', 'j6013_4', 'j6014_5', 'j6015_10', 'j6016_10', 'j6017_3', 'j6018_5', 'j6019_3', 'j6020_3', 'j6021_4', 'j6022_7', 'j6023_5', 'j6024_4', 'j6025_9', 'j6026_9', 'j6027_2', 'j6028_9', 'j6029_8', 'j6030_9', 'j6031_8', 'j6032_5', 'j6033_7', 'j6034_5', 'j6035_9', 'j6036_5', 'j6037_9', 'j6038_4', 'j6039_3', 'j6040_1', 'j6041_2', 'j6042_9', 'j6043_10', 'j6044_1', 'j6045_10', 'j6046_10', 'j6047_6', 'j6048_8', 'j901_9', 'j902_1', 'j903_10', 'j904_10', 'j905_3', 'j906_3', 'j907_8', 'j908_9', 'j909_1', 'j9010_8', 'j9011_8', 'j9012_3', 'j9013_7', 'j9014_7', 'j9015_5', 'j9016_9', 'j9017_6', 'j9018_2', 'j9019_4', 'j9020_7', 'j9021_2', 'j9022_8', 'j9023_5', 'j9024_2', 'j9025_2', 'j9026_4', 'j9027_3', 'j9028_8', 'j9029_4', 'j9030_7', 'j9031_9', 'j9032_8', 'j9033_9', 'j9034_3', 'j9035_4', 'j9036_10', 'j9037_9', 'j9038_2', 'j9039_5', 'j9040_5', 'j9041_2', 'j9042_5', 'j9043_5', 'j9044_6', 'j9045_4', 'j9046_8', 'j9047_4', 'j9048_6', 'j1201_9', 'j1202_6', 'j1203_6', 'j1204_5', 'j1205_7', 'j1206_6', 'j1207_8', 'j1208_9', 'j1209_7', 'j12010_1', 'j12011_8', 'j12012_10', 'j12013_4', 'j12014_1', 'j12015_4', 'j12016_5', 'j12017_4', 'j12018_9', 'j12019_8', 'j12020_4', 'j12021_8', 'j12022_2', 'j12023_8', 'j12024_5', 'j12025_1', 'j12026_7', 'j12027_8', 'j12028_10', 'j12029_4', 'j12030_9', 'j12031_10', 'j12032_3', 'j12033_4', 'j12034_2', 'j12035_10', 'j12036_7', 'j12037_9', 'j12038_10', 'j12039_5', 'j12040_10', 'j12041_7', 'j12042_8', 'j12043_3', 'j12044_9', 'j12045_7', 'j12046_4', 'j12047_8', 'j12048_6']\n"
     ]
    }
   ],
   "source": [
    "problems_used = [problems_data[key][i] for key in problems_data.keys() for i in problems_idx[key]]\n",
    "print([problem.name for problem in problems_used])"
   ]
  },
  {
   "cell_type": "code",
   "execution_count": null,
   "id": "15fa3c74",
   "metadata": {},
   "outputs": [],
   "source": [
    "params_obj = Parameters(N=5*30, limit=30*2, max_trials=4*30*4, mr=0.1, l=25)\n",
    "experiment_parallel(\n",
    "    problems_list=problems_used[:48],\n",
    "    filename=f\"{RES_PATH}/j30-gs-abc.json\",\n",
    "    base_params=params_obj,\n",
    "    mode_str=\"gs-abc\",\n",
    "    init_str=\"mcmc\",\n",
    "    num_runs_per_problem=5\n",
    ")\n",
    "params_obj = Parameters(N=5*60, limit=60*2, max_trials=4*60*4, mr=0.15, l=25)\n",
    "experiment_parallel(\n",
    "    problems_list=problems_used[48:48*2],\n",
    "    filename=f\"{RES_PATH}/j60-gs-abc.json\",\n",
    "    base_params=params_obj,\n",
    "    mode_str=\"gs-abc\",\n",
    "    init_str=\"mcmc\",\n",
    "    num_runs_per_problem=5\n",
    ")\n",
    "params_obj = Parameters(N=5*60, limit=60*2, max_trials=4*60*4)\n",
    "experiment_parallel(\n",
    "    problems_list=problems_used[48:48*2],\n",
    "    filename=f\"{RES_PATH}/j60-abc.json\",\n",
    "    base_params=params_obj,\n",
    "    mode_str=\"abc\",\n",
    "    init_str=\"random\",\n",
    "    num_runs_per_problem=5\n",
    ")\n",
    "params_obj = Parameters(N=5*90, limit=90*2, max_trials=4*90*4, mr=0.15, l=25)\n",
    "experiment_parallel(\n",
    "    problems_list=problems_used[48*2:48*3],\n",
    "    filename=f\"{RES_PATH}/j90-gs-abc.json\",\n",
    "    base_params=params_obj,\n",
    "    mode_str=\"gs-abc\",\n",
    "    init_str=\"mcmc\",\n",
    "    num_runs_per_problem=5\n",
    ")\n",
    "params_obj = Parameters(N=5*90, limit=90*2, max_trials=4*90*4)\n",
    "experiment_parallel(\n",
    "    problems_list=problems_used[48*2:48*3],\n",
    "    filename=f\"{RES_PATH}/j90-abc.json\",\n",
    "    base_params=params_obj,\n",
    "    mode_str=\"abc\",\n",
    "    init_str=\"random\",\n",
    "    num_runs_per_problem=5\n",
    ")\n",
    "params_obj = Parameters(N=5*120, limit=120*2, max_trials=16*120, mr=0.25, l=25)\n",
    "experiment_parallel(\n",
    "    problems_list=problems_used[48*3:48*3+5],\n",
    "    filename=f\"{RES_PATH}/j120-gs-abc.json\",\n",
    "    base_params=params_obj,\n",
    "    mode_str=\"gs-abc\",\n",
    "    init_str=\"mcmc\",\n",
    "    num_runs_per_problem=5\n",
    ")\n",
    "params_obj = Parameters(N=5*120, limit=120*2, max_trials=16*120)\n",
    "experiment_parallel(\n",
    "    problems_list=problems_used[48*3:48*3+5],\n",
    "    filename=f\"{RES_PATH}/j120-abc.json\",\n",
    "    base_params=params_obj,\n",
    "    mode_str=\"abc\",\n",
    "    init_str=\"random\",\n",
    "    num_runs_per_problem=5\n",
    ")"
   ]
  },
  {
   "cell_type": "code",
   "execution_count": 5,
   "id": "f5a34b1c",
   "metadata": {},
   "outputs": [
    {
     "name": "stdout",
     "output_type": "stream",
     "text": [
      "Results successfully loaded from Results/tuning-gsabci.json\n",
      "7.75\n",
      "{'j309_2': [0, 0], 'j3017_5': [0, 0], 'j3025_1': [0, 0], 'j3030_3': [0, 0], 'j3042_4': [0, 0], 'j609_2': [5, 6], 'j6017_5': [1, 1], 'j6025_1': [5, 5], 'j6030_3': [5, 5], 'j6042_4': [1, 2], 'j909_2': [15, 14], 'j9017_5': [0, 0], 'j9025_1': [13, 16], 'j9030_3': [2, 2], 'j9042_4': [0, 0], 'j1209_2': [4, 2], 'j12017_5': [19, 18], 'j12025_1': [2, 1], 'j12030_3': [0, 0], 'j12042_4': [6, 5]}\n"
     ]
    }
   ],
   "source": [
    "result_data = load_results(filename=\"Results/tuning-gsabci.json\")\n",
    "_arpd, desviations = arpd(result_data, [problems_data[key][i] for key in problems_data.keys() for i in [81, 164, 240, 292, 413]])\n",
    "print(_arpd)\n",
    "print(desviations)"
   ]
  },
  {
   "cell_type": "code",
   "execution_count": 9,
   "id": "2be5202d",
   "metadata": {},
   "outputs": [
    {
     "name": "stdout",
     "output_type": "stream",
     "text": [
      "Results successfully loaded from Results/j30-gs-abc.json\n",
      "{'j3036_10', 'j3016_3', 'j3034_10', 'j3027_6', 'j3038_5', 'j3024_2', 'j3015_10', 'j3019_5', 'j301_5', 'j307_6', 'j3023_5', 'j3032_3', 'j305_1', 'j3029_2', 'j3014_7', 'j3020_8', 'j3030_7', 'j3033_8', 'j3037_6', 'j3026_3', 'j3022_6', 'j302_1', 'j3047_10', 'j3046_5', 'j3025_7', 'j3040_8', 'j303_4', 'j3018_1', 'j3042_1', 'j308_6', 'j3017_2', 'j3031_6', 'j3011_8', 'j3048_7', 'j3028_6', 'j3043_2', 'j3044_3', 'j3013_9', 'j3041_6', 'j3045_1', 'j3010_2', 'j3035_6', 'j304_2', 'j3012_7', 'j306_4', 'j3021_5', 'j309_6', 'j3039_9'}\n"
     ]
    }
   ],
   "source": [
    "result_data = load_results(filename=f\"{RES_PATH}/j30-gs-abc.json\")\n",
    "problems = set()\n",
    "for r in result_data:\n",
    "    problems.add(r.problem_id)\n",
    "\n",
    "print(problems)"
   ]
  }
 ],
 "metadata": {
  "kernelspec": {
   "display_name": "base",
   "language": "python",
   "name": "python3"
  },
  "language_info": {
   "codemirror_mode": {
    "name": "ipython",
    "version": 3
   },
   "file_extension": ".py",
   "mimetype": "text/x-python",
   "name": "python",
   "nbconvert_exporter": "python",
   "pygments_lexer": "ipython3",
   "version": "3.12.2"
  }
 },
 "nbformat": 4,
 "nbformat_minor": 5
}
