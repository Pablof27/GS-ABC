{
 "cells": [
  {
   "cell_type": "code",
   "execution_count": 2,
   "id": "cc870f5a",
   "metadata": {},
   "outputs": [],
   "source": [
    "from Utils import load_results, loadBestKnown, loadProblems, arpd, average_pairwise_distance\n",
    "import numpy as np"
   ]
  },
  {
   "cell_type": "code",
   "execution_count": 3,
   "id": "427e69e2",
   "metadata": {},
   "outputs": [],
   "source": [
    "bk_solutions = {f\"j30{i//10 + 1}_{(i%10)+1}\": makespan for i, makespan in enumerate(loadBestKnown(30))}"
   ]
  },
  {
   "cell_type": "code",
   "execution_count": 25,
   "id": "befd7557",
   "metadata": {},
   "outputs": [],
   "source": [
    "def print_results(filename: str):\n",
    "    results = load_results(filename=filename)\n",
    "    cycles = np.array([len(result.best_history) for result in results])\n",
    "    print(filename.upper())\n",
    "    print(\"---------------------------\")\n",
    "    print(f\"Average number of cycles: {np.average(cycles)}\")\n",
    "    print(f\"Standar desviation: {np.std(cycles)}\")\n",
    "    print(f\"Minimum cycles: {np.min(cycles)}\")\n",
    "    print(f\"Maximum cycles: {np.max(cycles)}\")\n",
    "    print(\"\")\n",
    "    desviation = np.array([result.best.makespan - bk_solutions[result.problem_id] for result in results])\n",
    "    print(f\"Average number of desviation: {np.average(desviation)}\")\n",
    "    print(f\"Standar desviation (of desviations): {np.std(desviation)}\")\n",
    "    print(f\"Minimum desviation: {np.min(desviation)}\")\n",
    "    print(f\"Maximum desviation: {np.max(desviation)}\")\n",
    "    print(\"---------------------------\")\n",
    "    print(\"\")"
   ]
  },
  {
   "cell_type": "code",
   "execution_count": null,
   "id": "82c5d0a2",
   "metadata": {},
   "outputs": [],
   "source": [
    "population_size = [14, 15, 16, 17]\n",
    "limit_num = [125]\n",
    "for size in population_size:\n",
    "    for limit in limit_num:\n",
    "        print_results(filename=\"Results/j30-N{size}-L{limit}.json\")"
   ]
  },
  {
   "cell_type": "code",
   "execution_count": null,
   "id": "24437555",
   "metadata": {},
   "outputs": [],
   "source": [
    "proportions = [0.45]\n",
    "sampling_rate = [5, 10, 15]\n",
    "for proportion in proportions:\n",
    "    for sampling in sampling_rate:\n",
    "        print_results(filename=f\"Results/j30-P{int(100*proportion)}-S{sampling}.json\")"
   ]
  },
  {
   "cell_type": "code",
   "execution_count": 32,
   "id": "c3abdafe",
   "metadata": {},
   "outputs": [
    {
     "name": "stdout",
     "output_type": "stream",
     "text": [
      "Results successfully loaded from Results/j30-N17-L125-P45-S15.json\n",
      "RESULTS/J30-N17-L125-P45-S15.JSON\n",
      "---------------------------\n",
      "Average number of cycles: 357.64\n",
      "Standar desviation: 562.2713494390409\n",
      "Minimum cycles: 4\n",
      "Maximum cycles: 1472\n",
      "\n",
      "Average number of desviation: 0.26\n",
      "Standar desviation (of desviations): 0.5936328831862332\n",
      "Minimum desviation: 0\n",
      "Maximum desviation: 2\n",
      "---------------------------\n",
      "\n"
     ]
    }
   ],
   "source": [
    "print_results(filename=\"Results/j30-N17-L125-P45-S15.json\")"
   ]
  },
  {
   "cell_type": "code",
   "execution_count": 33,
   "id": "e90f3817",
   "metadata": {},
   "outputs": [
    {
     "name": "stdout",
     "output_type": "stream",
     "text": [
      "Results successfully loaded from Results/j30-random-init-abc.json\n",
      "RESULTS/J30-RANDOM-INIT-ABC.JSON\n",
      "---------------------------\n",
      "Average number of cycles: 545.10625\n",
      "Standar desviation: 632.0100763655624\n",
      "Minimum cycles: 2\n",
      "Maximum cycles: 1472\n",
      "\n",
      "Average number of desviation: 0.475\n",
      "Standar desviation (of desviations): 0.9079509898667439\n",
      "Minimum desviation: 0\n",
      "Maximum desviation: 6\n",
      "---------------------------\n",
      "\n"
     ]
    }
   ],
   "source": [
    "print_results(filename=\"Results/j30-random-init-abc.json\")"
   ]
  }
 ],
 "metadata": {
  "kernelspec": {
   "display_name": "base",
   "language": "python",
   "name": "python3"
  },
  "language_info": {
   "codemirror_mode": {
    "name": "ipython",
    "version": 3
   },
   "file_extension": ".py",
   "mimetype": "text/x-python",
   "name": "python",
   "nbconvert_exporter": "python",
   "pygments_lexer": "ipython3",
   "version": "3.12.2"
  }
 },
 "nbformat": 4,
 "nbformat_minor": 5
}
